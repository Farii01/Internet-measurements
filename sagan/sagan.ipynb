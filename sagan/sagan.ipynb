{
 "cells": [
  {
   "cell_type": "code",
   "execution_count": 1,
   "id": "c3d3cca8",
   "metadata": {},
   "outputs": [
    {
     "name": "stdout",
     "output_type": "stream",
     "text": [
      "[<ripe.atlas.sagan.traceroute.Hop object at 0x107a7bc80>, <ripe.atlas.sagan.traceroute.Hop object at 0x107a7bbc0>, <ripe.atlas.sagan.traceroute.Hop object at 0x107a7bb00>, <ripe.atlas.sagan.traceroute.Hop object at 0x107a7ba40>, <ripe.atlas.sagan.traceroute.Hop object at 0x107a7b980>, <ripe.atlas.sagan.traceroute.Hop object at 0x107a7b8c0>, <ripe.atlas.sagan.traceroute.Hop object at 0x107a7b800>, <ripe.atlas.sagan.traceroute.Hop object at 0x107a7b770>, <ripe.atlas.sagan.traceroute.Hop object at 0x107a7b680>]\n"
     ]
    }
   ],
   "source": [
    "from ripe.atlas.sagan import Result\n",
    "\n",
    "my_results_file = \"data.txt\"\n",
    "with open(my_results_file) as results:\n",
    "    for result in results.readlines():\n",
    "        parsed_result = Result.get(result)\n",
    "        print(parsed_result.hops)"
   ]
  },
  {
   "cell_type": "code",
   "execution_count": null,
   "id": "24280d45",
   "metadata": {},
   "outputs": [
    {
     "name": "stdout",
     "output_type": "stream",
     "text": [
      "<class 'list'>\n",
      "{'fw': 5080, 'mver': '2.6.2', 'lts': 2, 'endtime': 1745862321, 'dst_name': '102.164.38.60', 'dst_addr': '102.164.38.60', 'src_addr': '10.0.0.4', 'proto': 'ICMP', 'af': 4, 'size': 48, 'paris_id': 1, 'result': [{'hop': 1, 'result': [{'from': '10.0.0.1', 'ttl': 255, 'size': 28, 'rtt': 1.585}, {'from': '10.0.0.1', 'ttl': 255, 'size': 28, 'rtt': 0.547}, {'from': '10.0.0.1', 'ttl': 255, 'size': 28, 'rtt': 0.446}]}, {'hop': 2, 'result': [{'from': '154.113.73.197', 'ttl': 255, 'size': 68, 'rtt': 1.184}, {'from': '154.113.73.197', 'ttl': 255, 'size': 68, 'rtt': 1.509}, {'from': '154.113.73.197', 'ttl': 255, 'size': 68, 'rtt': 1.352}]}, {'hop': 3, 'result': [{'from': '41.75.80.58', 'ttl': 254, 'size': 28, 'rtt': 1.831}, {'from': '41.75.80.58', 'ttl': 254, 'size': 28, 'rtt': 1.786}, {'from': '41.75.80.58', 'ttl': 254, 'size': 28, 'rtt': 1.643}]}, {'hop': 4, 'result': [{'from': '41.75.80.58', 'ttl': 254, 'size': 28, 'rtt': 1.178}, {'from': '41.75.80.58', 'ttl': 254, 'size': 28, 'rtt': 1.176}, {'from': '41.75.80.58', 'ttl': 254, 'size': 28, 'rtt': 1.405}]}, {'hop': 5, 'result': [{'from': '196.216.148.32', 'ttl': 253, 'size': 28, 'rtt': 1.708}, {'from': '196.216.148.32', 'ttl': 253, 'size': 28, 'rtt': 1.664}, {'from': '196.216.148.32', 'ttl': 253, 'size': 28, 'rtt': 1.461}]}, {'hop': 6, 'result': [{'from': '41.217.205.114', 'ttl': 251, 'size': 28, 'rtt': 40.655}, {'from': '41.217.205.114', 'ttl': 251, 'size': 28, 'rtt': 3.401}, {'from': '41.217.205.114', 'ttl': 251, 'size': 28, 'rtt': 2.893}]}, {'hop': 7, 'result': [{'from': '192.168.150.3', 'ttl': 60, 'size': 28, 'rtt': 3.453}, {'from': '192.168.150.3', 'ttl': 60, 'size': 28, 'rtt': 4.808}, {'from': '192.168.150.3', 'ttl': 60, 'size': 28, 'rtt': 4.14}]}, {'hop': 8, 'result': [{'from': '102.164.38.60', 'ttl': 59, 'size': 28, 'rtt': 4.227}, {'from': '102.164.38.60', 'ttl': 59, 'size': 28, 'rtt': 3.997}, {'from': '102.164.38.60', 'ttl': 59, 'size': 28, 'rtt': 7.422}]}, {'hop': 9, 'result': [{'from': '102.164.38.60', 'ttl': 57, 'size': 48, 'rtt': 4.126}, {'from': '102.164.38.60', 'ttl': 57, 'size': 48, 'rtt': 4.318}, {'from': '102.164.38.60', 'ttl': 57, 'size': 48, 'rtt': 4.056}]}], 'destination_ip_responded': True, 'msm_id': 100274119, 'prb_id': 61190, 'timestamp': 1745862320, 'msm_name': 'Traceroute', 'from': '154.113.73.198', 'type': 'traceroute', 'group_id': 100274119, 'stored_timestamp': 1745862321}\n",
      "[<ripe.atlas.sagan.traceroute.Hop object at 0x126feeb10>, <ripe.atlas.sagan.traceroute.Hop object at 0x126feeae0>, <ripe.atlas.sagan.traceroute.Hop object at 0x126feeba0>, <ripe.atlas.sagan.traceroute.Hop object at 0x126feec90>, <ripe.atlas.sagan.traceroute.Hop object at 0x126feed80>, <ripe.atlas.sagan.traceroute.Hop object at 0x126feee40>, <ripe.atlas.sagan.traceroute.Hop object at 0x126feef60>, <ripe.atlas.sagan.traceroute.Hop object at 0x126fef020>, <ripe.atlas.sagan.traceroute.Hop object at 0x126fef320>]\n",
      "0 10.0.0.1\n",
      "1 154.113.73.197\n",
      "2 41.75.80.58\n",
      "3 41.75.80.58\n",
      "4 196.216.148.32\n",
      "5 41.217.205.114\n",
      "6 192.168.150.3\n",
      "7 102.164.38.60\n",
      "8 102.164.38.60\n",
      "original path ['None' '37282' '37282' '37282' 'None' '37125' 'None' '37125' '37125']\n",
      "flat path ['None' '37282' 'None' '37125' 'None' '37125']\n"
     ]
    }
   ],
   "source": [
    "import requests\n",
    "from ripe.atlas.sagan import Result\n",
    "from ripe.atlas.sagan import TracerouteResult\n",
    "import numpy as np\n",
    "from aslookup import get_as_data\n",
    "import pyasn\n",
    "\n",
    "asndb = pyasn.pyasn('ipasn_db.dat')\n",
    "\n",
    "measurement_id = 100274119\n",
    "source = 'https://atlas.ripe.net/api/v2/measurements/' + str(measurement_id)+ '/results/'\n",
    "#source = \"https://atlas.ripe.net/api/v2/measurements/\" + str(measurement_id)+ \"/?is_public=true\"\n",
    "response = requests.get(source)\n",
    "data = response.json()\n",
    "\n",
    "print(type(data))\n",
    "\n",
    "for x in data:\n",
    "    print(x)\n",
    "    parsed = TracerouteResult(x)\n",
    "\n",
    "    print(parsed.hops)\n",
    "\n",
    "    dest_ip = parsed.destination_address\n",
    "    src_ip = parsed.source_address\n",
    "    path_ip = parsed.ip_path\n",
    "\n",
    "    arr = np.array(path_ip)\n",
    "\n",
    "    path_1 = arr[:,0]\n",
    "    path_size = path_1.size\n",
    "    \n",
    "    path_2 = arr[:,1]\n",
    "    path_3 = arr[:,2]\n",
    "\n",
    "    for idx, x in enumerate(path_1):\n",
    "        print(idx, x) \n",
    "        asn = asndb.lookup(x)[0]\n",
    "        path_1[idx] = asn\n",
    "    \n",
    "    flat_path_1 = [path_1[0]]\n",
    "    for i in range(1, path_size - 1):\n",
    "        x = path_1[i]\n",
    "        last_elem = flat_path_1[-1]\n",
    "\n",
    "        if x == last_elem:\n",
    "            continue\n",
    "        else:\n",
    "            flat_path_1.append(x)\n",
    "\n",
    "    flat_path_1 = np.array(flat_path_1)\n",
    "    print(\"original path\", path_1)\n",
    "    print(\"flat path\", flat_path_1)\n",
    "\n",
    "    # for ip in path_1:\n",
    "    #     print(ip)\n",
    "    #     print(type(ip))\n",
    "\n",
    "    #     asn = asndb.lookup(ip)[0]\n",
    "\n",
    "    #     print(asn)\n",
    "    #     print(type(asn))\n",
    "\n",
    "    #     # ip to asn\n",
    "\n",
    "    # print(arr.shape)\n",
    "    # print(path_1.shape)\n",
    "    # print(path_1)\n",
    "    #print(arr)\n",
    "    # for ip in path_ip:\n",
    "    #     print(ip)\n",
    "\n",
    "# for result in data.readlines():\n",
    "#     parsed_result = Result.get(data)\n",
    "#     print(parsed_result.origin)\n",
    "\n",
    "\n",
    "\n",
    "\n",
    "\n",
    "\n",
    "# print(response)\n",
    "# print(source)\n",
    "\n",
    "# parsed_result = Result.get(response)  # Parsing magic!\n",
    "\n",
    "# print(parsed_result.hops)\n",
    "\n",
    "# for probe_id, result in response.items():\n",
    "\n",
    "#     result = result[0]                 # There's only one result for each probe\n",
    "#     pparsed_result = Result.get(result)  # Parsing magic!\n",
    "\n",
    "#     print(parsed_result.hops)"
   ]
  },
  {
   "cell_type": "code",
   "execution_count": 32,
   "id": "815382b3",
   "metadata": {},
   "outputs": [
    {
     "data": {
      "text/plain": [
       "(15169, '8.8.8.0/24')"
      ]
     },
     "execution_count": 32,
     "metadata": {},
     "output_type": "execute_result"
    }
   ],
   "source": [
    "import pyasn\n",
    "\n",
    "# Initialize module and load IP to ASN database\n",
    "# the sample database can be downloaded or built - see below\n",
    "asndb = pyasn.pyasn('ipasn_db.dat')\n",
    "\n",
    "asndb.lookup('8.8.8.8')\n",
    "# should return: (15169, '8.8.8.0/24'), the origin AS, and the BGP prefix it matches\n",
    "\n",
    "# asndb.get_as_prefixes(1128)\n",
    "# # returns ['130.161.0.0/16', '131.180.0.0/16', '145.94.0.0/16'], TU-Delft prefixes"
   ]
  },
  {
   "cell_type": "code",
   "execution_count": 39,
   "id": "d7df0e0c",
   "metadata": {},
   "outputs": [
    {
     "name": "stdout",
     "output_type": "stream",
     "text": [
      "<class 'list'>\n",
      "2\n"
     ]
    }
   ],
   "source": [
    "a = [1,2]\n",
    "print(type(a))\n",
    "print(a[-1])"
   ]
  }
 ],
 "metadata": {
  "kernelspec": {
   "display_name": "Python 3",
   "language": "python",
   "name": "python3"
  },
  "language_info": {
   "codemirror_mode": {
    "name": "ipython",
    "version": 3
   },
   "file_extension": ".py",
   "mimetype": "text/x-python",
   "name": "python",
   "nbconvert_exporter": "python",
   "pygments_lexer": "ipython3",
   "version": "3.12.7"
  }
 },
 "nbformat": 4,
 "nbformat_minor": 5
}
