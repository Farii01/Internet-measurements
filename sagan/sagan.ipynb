{
 "cells": [
  {
   "cell_type": "code",
   "execution_count": 21,
   "id": "c3d3cca8",
   "metadata": {},
   "outputs": [
    {
     "name": "stdout",
     "output_type": "stream",
     "text": [
      "[<ripe.atlas.sagan.traceroute.Hop object at 0x10a348980>, <ripe.atlas.sagan.traceroute.Hop object at 0x10a34a8d0>, <ripe.atlas.sagan.traceroute.Hop object at 0x10a348e90>, <ripe.atlas.sagan.traceroute.Hop object at 0x10a34acc0>, <ripe.atlas.sagan.traceroute.Hop object at 0x10a34b200>, <ripe.atlas.sagan.traceroute.Hop object at 0x10a34aed0>, <ripe.atlas.sagan.traceroute.Hop object at 0x10a3498e0>, <ripe.atlas.sagan.traceroute.Hop object at 0x10a348cb0>, <ripe.atlas.sagan.traceroute.Hop object at 0x10a349430>]\n"
     ]
    }
   ],
   "source": [
    "from ripe.atlas.sagan import Result\n",
    "\n",
    "my_results_file = \"data.txt\"\n",
    "with open(my_results_file) as results:\n",
    "    for result in results.readlines():\n",
    "        parsed_result = Result.get(result)\n",
    "        print(parsed_result.hops)"
   ]
  },
  {
   "cell_type": "code",
   "execution_count": null,
   "id": "24280d45",
   "metadata": {},
   "outputs": [
    {
     "name": "stdout",
     "output_type": "stream",
     "text": [
      "<bound method Response.json of <Response [200]>>\n",
      "https://atlas.ripe.net/api/v2/measurements/100274119/results/\n"
     ]
    },
    {
     "ename": "TypeError",
     "evalue": "'method' object is not subscriptable",
     "output_type": "error",
     "traceback": [
      "\u001b[0;31m---------------------------------------------------------------------------\u001b[0m",
      "\u001b[0;31mTypeError\u001b[0m                                 Traceback (most recent call last)",
      "Cell \u001b[0;32mIn[22], line 11\u001b[0m\n\u001b[1;32m      8\u001b[0m \u001b[38;5;28mprint\u001b[39m(response)\n\u001b[1;32m      9\u001b[0m \u001b[38;5;28mprint\u001b[39m(source)\n\u001b[0;32m---> 11\u001b[0m parsed_result \u001b[38;5;241m=\u001b[39m \u001b[43mResult\u001b[49m\u001b[38;5;241;43m.\u001b[39;49m\u001b[43mget\u001b[49m\u001b[43m(\u001b[49m\u001b[43mresponse\u001b[49m\u001b[43m)\u001b[49m  \u001b[38;5;66;03m# Parsing magic!\u001b[39;00m\n\u001b[1;32m     13\u001b[0m \u001b[38;5;28mprint\u001b[39m(parsed_result\u001b[38;5;241m.\u001b[39mhops)\n\u001b[1;32m     15\u001b[0m \u001b[38;5;66;03m# for probe_id, result in response.items():\u001b[39;00m\n\u001b[1;32m     16\u001b[0m \n\u001b[1;32m     17\u001b[0m \u001b[38;5;66;03m#     result = result[0]                 # There's only one result for each probe\u001b[39;00m\n\u001b[1;32m     18\u001b[0m \u001b[38;5;66;03m#     pparsed_result = Result.get(result)  # Parsing magic!\u001b[39;00m\n\u001b[1;32m     19\u001b[0m \n\u001b[1;32m     20\u001b[0m \u001b[38;5;66;03m#     print(parsed_result.hops)\u001b[39;00m\n",
      "File \u001b[0;32m/Library/Frameworks/Python.framework/Versions/3.12/lib/python3.12/site-packages/ripe/atlas/sagan/base.py:235\u001b[0m, in \u001b[0;36mResult.get\u001b[0;34m(cls, data, **kwargs)\u001b[0m\n\u001b[1;32m    232\u001b[0m     raw_data \u001b[38;5;241m=\u001b[39m Json\u001b[38;5;241m.\u001b[39mloads(data)\n\u001b[1;32m    234\u001b[0m \u001b[38;5;28;01mtry\u001b[39;00m:\n\u001b[0;32m--> 235\u001b[0m     kind \u001b[38;5;241m=\u001b[39m \u001b[43mraw_data\u001b[49m\u001b[43m[\u001b[49m\u001b[38;5;124;43m\"\u001b[39;49m\u001b[38;5;124;43mtype\u001b[39;49m\u001b[38;5;124;43m\"\u001b[39;49m\u001b[43m]\u001b[49m\u001b[38;5;241m.\u001b[39mlower()\n\u001b[1;32m    236\u001b[0m \u001b[38;5;28;01mexcept\u001b[39;00m \u001b[38;5;167;01mKeyError\u001b[39;00m:\n\u001b[1;32m    237\u001b[0m     \u001b[38;5;28;01mraise\u001b[39;00m ResultParseError(\u001b[38;5;124m\"\u001b[39m\u001b[38;5;124mNo type value was found in the JSON input\u001b[39m\u001b[38;5;124m\"\u001b[39m)\n",
      "\u001b[0;31mTypeError\u001b[0m: 'method' object is not subscriptable"
     ]
    }
   ],
   "source": [
    "import requests\n",
    "from ripe.atlas.sagan import Result\n",
    "\n",
    "measurement_id = 100274119\n",
    "source = 'https://atlas.ripe.net/api/v2/measurements/' + str(measurement_id)+ '/results/'\n",
    "#source = \"https://atlas.ripe.net/api/v2/measurements/\" + str(measurement_id)+ \"/?is_public=true\"\n",
    "response = requests.get(source).json\n",
    "\n",
    "with open(response) as results:\n",
    "    for result in results.readlines():\n",
    "        parsed_result = Result.get(result)\n",
    "        print(parsed_result.origin)\n",
    "\n",
    "\n",
    "\n",
    "\n",
    "\n",
    "\n",
    "# print(response)\n",
    "# print(source)\n",
    "\n",
    "# parsed_result = Result.get(response)  # Parsing magic!\n",
    "\n",
    "# print(parsed_result.hops)\n",
    "\n",
    "# for probe_id, result in response.items():\n",
    "\n",
    "#     result = result[0]                 # There's only one result for each probe\n",
    "#     pparsed_result = Result.get(result)  # Parsing magic!\n",
    "\n",
    "#     print(parsed_result.hops)"
   ]
  }
 ],
 "metadata": {
  "kernelspec": {
   "display_name": "Python 3",
   "language": "python",
   "name": "python3"
  },
  "language_info": {
   "codemirror_mode": {
    "name": "ipython",
    "version": 3
   },
   "file_extension": ".py",
   "mimetype": "text/x-python",
   "name": "python",
   "nbconvert_exporter": "python",
   "pygments_lexer": "ipython3",
   "version": "3.12.7"
  }
 },
 "nbformat": 4,
 "nbformat_minor": 5
}
