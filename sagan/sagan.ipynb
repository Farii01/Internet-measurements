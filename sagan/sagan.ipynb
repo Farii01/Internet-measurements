{
 "cells": [
  {
   "cell_type": "code",
   "execution_count": 88,
   "id": "c3d3cca8",
   "metadata": {},
   "outputs": [
    {
     "name": "stdout",
     "output_type": "stream",
     "text": [
      "[<ripe.atlas.sagan.traceroute.Hop object at 0x1795b23f0>, <ripe.atlas.sagan.traceroute.Hop object at 0x1795b0830>, <ripe.atlas.sagan.traceroute.Hop object at 0x1795b1430>, <ripe.atlas.sagan.traceroute.Hop object at 0x1795b2c60>, <ripe.atlas.sagan.traceroute.Hop object at 0x1795b0800>, <ripe.atlas.sagan.traceroute.Hop object at 0x1795b1af0>, <ripe.atlas.sagan.traceroute.Hop object at 0x1795b1280>, <ripe.atlas.sagan.traceroute.Hop object at 0x1795b13a0>, <ripe.atlas.sagan.traceroute.Hop object at 0x1795b1100>]\n"
     ]
    }
   ],
   "source": [
    "from ripe.atlas.sagan import Result\n",
    "\n",
    "my_results_file = \"data.txt\"\n",
    "with open(my_results_file) as results:\n",
    "    for result in results.readlines():\n",
    "        parsed_result = Result.get(result)\n",
    "        print(parsed_result.hops)"
   ]
  },
  {
   "cell_type": "code",
   "execution_count": 89,
   "id": "24280d45",
   "metadata": {},
   "outputs": [
    {
     "ename": "TypeError",
     "evalue": "search_best() argument 1 must be str, not None",
     "output_type": "error",
     "traceback": [
      "\u001b[0;31m---------------------------------------------------------------------------\u001b[0m",
      "\u001b[0;31mTypeError\u001b[0m                                 Traceback (most recent call last)",
      "Cell \u001b[0;32mIn[89], line 32\u001b[0m\n\u001b[1;32m     30\u001b[0m \u001b[38;5;28;01mfor\u001b[39;00m path \u001b[38;5;129;01min\u001b[39;00m [path_1, path_2, path_3]:\n\u001b[1;32m     31\u001b[0m     \u001b[38;5;28;01mfor\u001b[39;00m idx, x \u001b[38;5;129;01min\u001b[39;00m \u001b[38;5;28menumerate\u001b[39m(path):\n\u001b[0;32m---> 32\u001b[0m         asn \u001b[38;5;241m=\u001b[39m \u001b[43masndb\u001b[49m\u001b[38;5;241;43m.\u001b[39;49m\u001b[43mlookup\u001b[49m\u001b[43m(\u001b[49m\u001b[43mx\u001b[49m\u001b[43m)\u001b[49m[\u001b[38;5;241m0\u001b[39m]\n\u001b[1;32m     33\u001b[0m         path[idx] \u001b[38;5;241m=\u001b[39m asn\n\u001b[1;32m     35\u001b[0m     path \u001b[38;5;241m=\u001b[39m np\u001b[38;5;241m.\u001b[39marray(\u001b[38;5;28mlist\u001b[39m(\u001b[38;5;28mfilter\u001b[39m(\u001b[38;5;28;01mlambda\u001b[39;00m x: x \u001b[38;5;241m!=\u001b[39m \u001b[38;5;124m'\u001b[39m\u001b[38;5;124mNone\u001b[39m\u001b[38;5;124m'\u001b[39m, path))) \u001b[38;5;66;03m# Remove NONE values\u001b[39;00m\n",
      "File \u001b[0;32m/Library/Frameworks/Python.framework/Versions/3.12/lib/python3.12/site-packages/pyasn/__init__.py:132\u001b[0m, in \u001b[0;36mpyasn.lookup\u001b[0;34m(self, ip_address)\u001b[0m\n\u001b[1;32m    122\u001b[0m \u001b[38;5;28;01mdef\u001b[39;00m \u001b[38;5;21mlookup\u001b[39m(\u001b[38;5;28mself\u001b[39m, ip_address):\n\u001b[1;32m    123\u001b[0m \u001b[38;5;250m    \u001b[39m\u001b[38;5;124;03m\"\"\"\u001b[39;00m\n\u001b[1;32m    124\u001b[0m \u001b[38;5;124;03m    Returns the as number and best matching prefix for given ip address.\\n\u001b[39;00m\n\u001b[1;32m    125\u001b[0m \u001b[38;5;124;03m    :param ip_address: String representation of ip address , for example \"8.8.8.8\".\u001b[39;00m\n\u001b[0;32m   (...)\u001b[0m\n\u001b[1;32m    130\u001b[0m \u001b[38;5;124;03m        Returns (None, None) if the IP address is not found (=not advertised, unreachable)\u001b[39;00m\n\u001b[1;32m    131\u001b[0m \u001b[38;5;124;03m    \"\"\"\u001b[39;00m\n\u001b[0;32m--> 132\u001b[0m     rn \u001b[38;5;241m=\u001b[39m \u001b[38;5;28;43mself\u001b[39;49m\u001b[38;5;241;43m.\u001b[39;49m\u001b[43mradix\u001b[49m\u001b[38;5;241;43m.\u001b[39;49m\u001b[43msearch_best\u001b[49m\u001b[43m(\u001b[49m\u001b[43mip_address\u001b[49m\u001b[43m)\u001b[49m\n\u001b[1;32m    133\u001b[0m     \u001b[38;5;28;01mreturn\u001b[39;00m (rn\u001b[38;5;241m.\u001b[39masn, rn\u001b[38;5;241m.\u001b[39mprefix) \u001b[38;5;28;01mif\u001b[39;00m rn \u001b[38;5;28;01melse\u001b[39;00m (\u001b[38;5;28;01mNone\u001b[39;00m, \u001b[38;5;28;01mNone\u001b[39;00m)\n",
      "\u001b[0;31mTypeError\u001b[0m: search_best() argument 1 must be str, not None"
     ]
    }
   ],
   "source": [
    "import requests\n",
    "from ripe.atlas.sagan import Result\n",
    "from ripe.atlas.sagan import TracerouteResult\n",
    "import numpy as np\n",
    "from aslookup import get_as_data\n",
    "import pyasn\n",
    "import networkx as nx\n",
    "import matplotlib.pyplot as plt\n",
    "\n",
    "asndb = pyasn.pyasn('ipasn_db.dat')\n",
    "G = nx.Graph()\n",
    "\n",
    "measurement_ids = [100274119, 103112978]\n",
    "\n",
    "for measurement_id in measurement_ids:\n",
    "    source = 'https://atlas.ripe.net/api/v2/measurements/' + str(measurement_id)+ '/results/'\n",
    "    response = requests.get(source)\n",
    "    data = response.json()\n",
    "\n",
    "    for x in data:\n",
    "        parsed = TracerouteResult(x)\n",
    "        path_ip = parsed.ip_path\n",
    "\n",
    "        arr = np.array(path_ip)\n",
    "\n",
    "        path_1 = arr[:,0]\n",
    "        path_2 = arr[:,1]\n",
    "        path_3 = arr[:,2]\n",
    "\n",
    "        for path in [path_1, path_2, path_3]:\n",
    "            for idx, x in enumerate(path):\n",
    "                asn = asndb.lookup(x)[0]\n",
    "                path[idx] = asn\n",
    "            \n",
    "            path = np.array(list(filter(lambda x: x != 'None', path))) # Remove NONE values\n",
    "            path_size = path.size\n",
    "\n",
    "            flat_path = [path[0]]\n",
    "            for i in range(1, path_size - 1):\n",
    "                x = path[i]\n",
    "                last_elem = flat_path[-1]\n",
    "\n",
    "                if x == last_elem:\n",
    "                    continue\n",
    "                else:\n",
    "                    flat_path.append(x)\n",
    "\n",
    "            flat_path = np.array(flat_path) \n",
    "            # print(\"original path\", path)\n",
    "            # print(\"flat path\", flat_path)\n",
    "\n",
    "            flat_path_size = flat_path.size\n",
    "            G.add_node(flat_path[0])\n",
    "            for i in range(1, flat_path_size):\n",
    "                prev = flat_path[i-1]\n",
    "                asn = flat_path[i]\n",
    "                G.add_node(asn)\n",
    "                G.add_edge(asn, prev)\n",
    "\n",
    "\n",
    "nx.draw(G, with_labels=True, font_weight='bold')\n"
   ]
  },
  {
   "cell_type": "code",
   "execution_count": null,
   "id": "6554bb5a",
   "metadata": {},
   "outputs": [
    {
     "name": "stdout",
     "output_type": "stream",
     "text": [
      "Graph with 2 nodes and 1 edges\n"
     ]
    },
    {
     "data": {
      "image/png": "[encoded data removed]",
      "text/plain": [
       "<Figure size 640x480 with 1 Axes>"
      ]
     },
     "metadata": {},
     "output_type": "display_data"
    }
   ],
   "source": [
    "import networkx as nx\n",
    "import matplotlib.pyplot as plt\n",
    "\n",
    "\n",
    "G = nx.Graph()\n",
    "\n",
    "G.add_node(67)\n",
    "G.add_node(22)\n",
    "G.add_node(22)\n",
    "G.add_edge(67,22)\n",
    "G.add_edge(67,22)\n",
    "G.add_edge(22,67)\n",
    "G.add_node(22)\n",
    "\n",
    "\n",
    "print(G)\n",
    "nx.draw(G, with_labels=True, font_weight='bold')"
   ]
  },
  {
   "cell_type": "code",
   "execution_count": null,
   "id": "787531f4",
   "metadata": {},
   "outputs": [
    {
     "name": "stdout",
     "output_type": "stream",
     "text": [
      "IGRAPH UN-- 2 0 --\n",
      "+ attr: name (v)\n"
     ]
    },
    {
     "name": "stderr",
     "output_type": "stream",
     "text": [
      "/var/folders/dw/2p1g8d754ygdc7vnzvm1kxd80000gn/T/ipykernel_1778/2819888328.py:5: DeprecationWarning: You are using integers as vertex names. This is discouraged because most igraph functions interpret integers as vertex _IDs_ and strings as vertex names. For sake of consistency, convert your vertex names to strings before assigning them. Future versions from igraph 0.11.0 will disallow integers as vertex names.\n",
      "  g.add_vertex(67)\n",
      "/var/folders/dw/2p1g8d754ygdc7vnzvm1kxd80000gn/T/ipykernel_1778/2819888328.py:6: DeprecationWarning: You are using integers as vertex names. This is discouraged because most igraph functions interpret integers as vertex _IDs_ and strings as vertex names. For sake of consistency, convert your vertex names to strings before assigning them. Future versions from igraph 0.11.0 will disallow integers as vertex names.\n",
      "  g.add_vertex(22)\n"
     ]
    },
    {
     "ename": "InternalError",
     "evalue": "Error at src/graph/type_indexededgelist.c:261: Out-of-range vertex IDs when adding edges. -- Invalid vertex ID",
     "output_type": "error",
     "traceback": [
      "\u001b[0;31m---------------------------------------------------------------------------\u001b[0m",
      "\u001b[0;31mInternalError\u001b[0m                             Traceback (most recent call last)",
      "Cell \u001b[0;32mIn[64], line 11\u001b[0m\n\u001b[1;32m      9\u001b[0m layout \u001b[38;5;241m=\u001b[39m g\u001b[38;5;241m.\u001b[39mlayout(\u001b[38;5;124m\"\u001b[39m\u001b[38;5;124mkk\u001b[39m\u001b[38;5;124m\"\u001b[39m)\n\u001b[1;32m     10\u001b[0m \u001b[38;5;66;03m# ig.plot(g, layout=layout)\u001b[39;00m\n\u001b[0;32m---> 11\u001b[0m \u001b[43mg\u001b[49m\u001b[38;5;241;43m.\u001b[39;49m\u001b[43madd_edge\u001b[49m\u001b[43m(\u001b[49m\u001b[38;5;241;43m67\u001b[39;49m\u001b[43m,\u001b[49m\u001b[38;5;241;43m22\u001b[39;49m\u001b[43m)\u001b[49m\n\u001b[1;32m     13\u001b[0m g\u001b[38;5;241m.\u001b[39mvs[\u001b[38;5;124m\"\u001b[39m\u001b[38;5;124mlabel\u001b[39m\u001b[38;5;124m\"\u001b[39m] \u001b[38;5;241m=\u001b[39m g\u001b[38;5;241m.\u001b[39mvs[\u001b[38;5;124m\"\u001b[39m\u001b[38;5;124mname\u001b[39m\u001b[38;5;124m\"\u001b[39m]\n\u001b[1;32m     14\u001b[0m \u001b[38;5;28;01mimport\u001b[39;00m \u001b[38;5;21;01mmatplotlib\u001b[39;00m\u001b[38;5;21;01m.\u001b[39;00m\u001b[38;5;21;01mpyplot\u001b[39;00m \u001b[38;5;28;01mas\u001b[39;00m \u001b[38;5;21;01mplt\u001b[39;00m\n",
      "File \u001b[0;32m/Library/Frameworks/Python.framework/Versions/3.12/lib/python3.12/site-packages/igraph/basic.py:24\u001b[0m, in \u001b[0;36m_add_edge\u001b[0;34m(graph, source, target, **kwds)\u001b[0m\n\u001b[1;32m      7\u001b[0m \u001b[38;5;250m\u001b[39m\u001b[38;5;124;03m\"\"\"Adds a single edge to the graph.\u001b[39;00m\n\u001b[1;32m      8\u001b[0m \n\u001b[1;32m      9\u001b[0m \u001b[38;5;124;03mKeyword arguments (except the source and target arguments) will be\u001b[39;00m\n\u001b[0;32m   (...)\u001b[0m\n\u001b[1;32m     21\u001b[0m \u001b[38;5;124;03m    object and want to avoid the overhead of creating it.\u001b[39;00m\n\u001b[1;32m     22\u001b[0m \u001b[38;5;124;03m\"\"\"\u001b[39;00m\n\u001b[1;32m     23\u001b[0m eid \u001b[38;5;241m=\u001b[39m graph\u001b[38;5;241m.\u001b[39mecount()\n\u001b[0;32m---> 24\u001b[0m \u001b[43mgraph\u001b[49m\u001b[38;5;241;43m.\u001b[39;49m\u001b[43madd_edges\u001b[49m\u001b[43m(\u001b[49m\u001b[43m[\u001b[49m\u001b[43m(\u001b[49m\u001b[43msource\u001b[49m\u001b[43m,\u001b[49m\u001b[43m \u001b[49m\u001b[43mtarget\u001b[49m\u001b[43m)\u001b[49m\u001b[43m]\u001b[49m\u001b[43m)\u001b[49m\n\u001b[1;32m     25\u001b[0m edge \u001b[38;5;241m=\u001b[39m graph\u001b[38;5;241m.\u001b[39mes[eid]\n\u001b[1;32m     26\u001b[0m \u001b[38;5;28;01mfor\u001b[39;00m key, value \u001b[38;5;129;01min\u001b[39;00m kwds\u001b[38;5;241m.\u001b[39mitems():\n",
      "File \u001b[0;32m/Library/Frameworks/Python.framework/Versions/3.12/lib/python3.12/site-packages/igraph/basic.py:42\u001b[0m, in \u001b[0;36m_add_edges\u001b[0;34m(graph, es, attributes)\u001b[0m\n\u001b[1;32m     32\u001b[0m \u001b[38;5;250m\u001b[39m\u001b[38;5;124;03m\"\"\"Adds some edges to the graph.\u001b[39;00m\n\u001b[1;32m     33\u001b[0m \n\u001b[1;32m     34\u001b[0m \u001b[38;5;124;03m@param es: the list of edges to be added. Every edge is represented\u001b[39;00m\n\u001b[0;32m   (...)\u001b[0m\n\u001b[1;32m     39\u001b[0m \u001b[38;5;124;03m  edges.\u001b[39;00m\n\u001b[1;32m     40\u001b[0m \u001b[38;5;124;03m\"\"\"\u001b[39;00m\n\u001b[1;32m     41\u001b[0m eid \u001b[38;5;241m=\u001b[39m graph\u001b[38;5;241m.\u001b[39mecount()\n\u001b[0;32m---> 42\u001b[0m res \u001b[38;5;241m=\u001b[39m \u001b[43mGraphBase\u001b[49m\u001b[38;5;241;43m.\u001b[39;49m\u001b[43madd_edges\u001b[49m\u001b[43m(\u001b[49m\u001b[43mgraph\u001b[49m\u001b[43m,\u001b[49m\u001b[43m \u001b[49m\u001b[43mes\u001b[49m\u001b[43m)\u001b[49m\n\u001b[1;32m     43\u001b[0m n \u001b[38;5;241m=\u001b[39m graph\u001b[38;5;241m.\u001b[39mecount() \u001b[38;5;241m-\u001b[39m eid\n\u001b[1;32m     44\u001b[0m \u001b[38;5;28;01mif\u001b[39;00m (attributes \u001b[38;5;129;01mis\u001b[39;00m \u001b[38;5;129;01mnot\u001b[39;00m \u001b[38;5;28;01mNone\u001b[39;00m) \u001b[38;5;129;01mand\u001b[39;00m (n \u001b[38;5;241m>\u001b[39m \u001b[38;5;241m0\u001b[39m):\n",
      "\u001b[0;31mInternalError\u001b[0m: Error at src/graph/type_indexededgelist.c:261: Out-of-range vertex IDs when adding edges. -- Invalid vertex ID"
     ]
    }
   ],
   "source": [
    "import igraph as ig\n",
    "\n",
    "g = ig.Graph()\n",
    "\n",
    "g.add_vertex(67)\n",
    "g.add_vertex(22)\n",
    "print(g)\n",
    "\n",
    "layout = g.layout(\"kk\")\n",
    "# ig.plot(g, layout=layout)\n",
    "g.add_edge(67,22)\n",
    "\n",
    "g.vs[\"label\"] = g.vs[\"name\"]\n",
    "import matplotlib.pyplot as plt\n",
    "fig, ax = plt.subplots()\n",
    "ig.plot(g, layout=layout, target=ax)"
   ]
  },
  {
   "cell_type": "code",
   "execution_count": null,
   "id": "815382b3",
   "metadata": {},
   "outputs": [
    {
     "data": {
      "text/plain": [
       "(15169, '8.8.8.0/24')"
      ]
     },
     "execution_count": 32,
     "metadata": {},
     "output_type": "execute_result"
    }
   ],
   "source": [
    "import pyasn\n",
    "\n",
    "# Initialize module and load IP to ASN database\n",
    "# the sample database can be downloaded or built - see below\n",
    "asndb = pyasn.pyasn('ipasn_db.dat')\n",
    "\n",
    "asndb.lookup('8.8.8.8')\n",
    "# should return: (15169, '8.8.8.0/24'), the origin AS, and the BGP prefix it matches\n",
    "\n",
    "# asndb.get_as_prefixes(1128)\n",
    "# # returns ['130.161.0.0/16', '131.180.0.0/16', '145.94.0.0/16'], TU-Delft prefixes"
   ]
  },
  {
   "cell_type": "code",
   "execution_count": null,
   "id": "d7df0e0c",
   "metadata": {},
   "outputs": [
    {
     "name": "stdout",
     "output_type": "stream",
     "text": [
      "<class 'list'>\n",
      "2\n"
     ]
    }
   ],
   "source": [
    "a = [1,2]\n",
    "print(type(a))\n",
    "print(a[-1])\n",
    "\n",
    "    # for ip in path_1:\n",
    "    #     print(ip)\n",
    "    #     print(type(ip))\n",
    "\n",
    "    #     asn = asndb.lookup(ip)[0]\n",
    "\n",
    "    #     print(asn)\n",
    "    #     print(type(asn))\n",
    "\n",
    "    #     # ip to asn\n",
    "\n",
    "    # print(arr.shape)\n",
    "    # print(path_1.shape)\n",
    "    # print(path_1)\n",
    "    #print(arr)\n",
    "    # for ip in path_ip:\n",
    "    #     print(ip)\n",
    "\n",
    "# for result in data.readlines():\n",
    "#     parsed_result = Result.get(data)\n",
    "#     print(parsed_result.origin)\n",
    "\n",
    "\n",
    "\n",
    "\n",
    "\n",
    "\n",
    "# print(response)\n",
    "# print(source)\n",
    "\n",
    "# parsed_result = Result.get(response)  # Parsing magic!\n",
    "\n",
    "# print(parsed_result.hops)\n",
    "\n",
    "# for probe_id, result in response.items():\n",
    "\n",
    "#     result = result[0]                 # There's only one result for each probe\n",
    "#     pparsed_result = Result.get(result)  # Parsing magic!\n",
    "\n",
    "#     print(parsed_result.hops)"
   ]
  },
  {
   "cell_type": "code",
   "execution_count": 114,
   "id": "92fb582f",
   "metadata": {},
   "outputs": [
    {
     "name": "stdout",
     "output_type": "stream",
     "text": [
      "<class 'requests.models.Response'>\n",
      "<Response [200]>\n",
      "traceroute\n",
      "<class 'requests.models.Response'>\n",
      "<Response [200]>\n",
      "ping\n",
      "<class 'requests.models.Response'>\n",
      "<Response [200]>\n",
      "ping\n",
      "<class 'requests.models.Response'>\n",
      "<Response [200]>\n",
      "ping\n",
      "<class 'requests.models.Response'>\n",
      "<Response [200]>\n",
      "traceroute\n",
      "<class 'requests.models.Response'>\n",
      "<Response [200]>\n",
      "ssl\n"
     ]
    },
    {
     "name": "stderr",
     "output_type": "stream",
     "text": [
      "/Library/Frameworks/Python.framework/Versions/3.12/lib/python3.12/site-packages/ripe/atlas/sagan/ssl.py:72: CryptographyDeprecationWarning: Properties that return a naïve datetime object have been deprecated. Please switch to not_valid_before_utc.\n",
      "  self.valid_from = pytz.utc.localize(cert.not_valid_before)\n",
      "/Library/Frameworks/Python.framework/Versions/3.12/lib/python3.12/site-packages/ripe/atlas/sagan/ssl.py:73: CryptographyDeprecationWarning: Properties that return a naïve datetime object have been deprecated. Please switch to not_valid_after_utc.\n",
      "  self.valid_until = pytz.utc.localize(cert.not_valid_after)\n"
     ]
    },
    {
     "name": "stdout",
     "output_type": "stream",
     "text": [
      "<class 'requests.models.Response'>\n",
      "<Response [200]>\n",
      "ping\n",
      "<class 'requests.models.Response'>\n",
      "<Response [401]>\n"
     ]
    },
    {
     "ename": "KeyError",
     "evalue": "0",
     "output_type": "error",
     "traceback": [
      "\u001b[0;31m---------------------------------------------------------------------------\u001b[0m",
      "\u001b[0;31mKeyError\u001b[0m                                  Traceback (most recent call last)",
      "Cell \u001b[0;32mIn[114], line 20\u001b[0m\n\u001b[1;32m     18\u001b[0m \u001b[38;5;28mprint\u001b[39m(response)\n\u001b[1;32m     19\u001b[0m data \u001b[38;5;241m=\u001b[39m response\u001b[38;5;241m.\u001b[39mjson()\n\u001b[0;32m---> 20\u001b[0m data_res \u001b[38;5;241m=\u001b[39m \u001b[43mdata\u001b[49m\u001b[43m[\u001b[49m\u001b[38;5;241;43m0\u001b[39;49m\u001b[43m]\u001b[49m\n\u001b[1;32m     22\u001b[0m meas \u001b[38;5;241m=\u001b[39m Result\u001b[38;5;241m.\u001b[39mget(data_res)\n\u001b[1;32m     24\u001b[0m \u001b[38;5;28mprint\u001b[39m(meas\u001b[38;5;241m.\u001b[39mtype)\n",
      "\u001b[0;31mKeyError\u001b[0m: 0"
     ]
    }
   ],
   "source": [
    "import requests\n",
    "from ripe.atlas.sagan import TracerouteResult\n",
    "from ripe.atlas.sagan import Result\n",
    "import numpy as np\n",
    "import pyasn\n",
    "import networkx as nx\n",
    "import matplotlib.pyplot as plt\n",
    "\n",
    "\n",
    "n_measurement = 10\n",
    "\n",
    "measurement_ids = np.random.randint(1, 103112978, size=n_measurement)\n",
    "\n",
    "for measurement_id in measurement_ids:\n",
    "    source = 'https://atlas.ripe.net/api/v2/measurements/' + str(measurement_id)+ '/results/'\n",
    "    response = requests.get(source)\n",
    "    print(type(response))\n",
    "    print(response)\n",
    "    data = response.json()\n",
    "    data_res = data[0]\n",
    "\n",
    "    meas = Result.get(data_res)\n",
    "\n",
    "    print(meas.type)\n",
    "\n",
    "\n",
    "    # for x in data:\n",
    "    #     parsed = TracerouteResult(x)\n",
    "    #     path_ip = parsed.ip_path\n",
    "\n",
    "    #     arr = np.array(path_ip)"
   ]
  },
  {
   "cell_type": "code",
   "execution_count": 105,
   "id": "8af8b3a2",
   "metadata": {},
   "outputs": [
    {
     "name": "stdout",
     "output_type": "stream",
     "text": [
      "<Response [200]>\n",
      "{'af': 4, 'avg': 125.109635, 'dst_addr': '125.48.77.74', 'dst_name': '125.48.77.74', 'dup': 0, 'from': '180.93.3.2', 'fw': 4910, 'group_id': 12948381, 'lts': 7, 'max': 125.109635, 'min': 125.109635, 'msm_id': 12948381, 'msm_name': 'Ping', 'prb_id': 29817, 'proto': 'ICMP', 'rcvd': 1, 'result': [{'rtt': 125.109635}], 'sent': 1, 'size': 64, 'src_addr': '192.168.1.104', 'step': None, 'stored_timestamp': 1526945025, 'timestamp': 1526945008, 'ttl': 240, 'type': 'ping'}\n",
      "ping\n"
     ]
    }
   ],
   "source": [
    "import requests\n",
    "from ripe.atlas.sagan import TracerouteResult\n",
    "from ripe.atlas.sagan import Result\n",
    "import numpy as np\n",
    "import pyasn\n",
    "import networkx as nx\n",
    "import matplotlib.pyplot as plt\n",
    "import json\n",
    "\n",
    "# url = f\"https://atlas.ripe.net/api/v2/measurements/?type=traceroute&status=2&is_oneoff=true&limit={limit}\"\n",
    "# response = requests.get(url)\n",
    "# response.raise_for_status()\n",
    "# data = response.json()\n",
    "# return [m['id'] for m in data['results']]\n",
    "\n",
    "\n",
    "# n_measurement = 10\n",
    "\n",
    "# measurement_ids = np.random.randint(1, 103112978, size=n_measurement)\n",
    "\n",
    "measurement_id = 12948381\n",
    "source = 'https://atlas.ripe.net/api/v2/measurements/' + str(measurement_id)+ '/results/'\n",
    "response = requests.get(source)\n",
    "print(response)\n",
    "data_r = response.json()\n",
    "paska = data_r[0]\n",
    "print(paska)\n",
    "\n",
    "#print(type(json.dumps(data_r)))\n",
    "\n",
    "asd = Result.get(paska)\n",
    "print(asd.type)\n",
    "\n",
    "#print(data)\n",
    "\n",
    "\n",
    "# for measurement_id in measurement_ids:\n",
    "#     source = 'https://atlas.ripe.net/api/v2/measurements/' + str(measurement_id)+ '/results/'\n",
    "#     response = requests.get(source)\n",
    "#     print(response)\n",
    "#     data = response.json()\n",
    "\n",
    "    \n",
    "\n",
    "#     print()\n",
    "\n",
    "#     # for x in data:\n",
    "#     #     parsed = TracerouteResult(x)\n",
    "#     #     path_ip = parsed.ip_path\n",
    "\n",
    "#     #     arr = np.array(path_ip)"
   ]
  },
  {
   "cell_type": "code",
   "execution_count": 173,
   "id": "c1fcd043",
   "metadata": {},
   "outputs": [
    {
     "name": "stdout",
     "output_type": "stream",
     "text": [
      "100274119,103112978,103112523,103155911,103156016,103157546,1283,1\n",
      "<Response [200]>\n",
      "None\n",
      "4\n",
      "(4,)\n",
      "[100274119 103112523 103112978 103155911]\n"
     ]
    }
   ],
   "source": [
    "import requests\n",
    "from ripe.atlas.sagan import TracerouteResult\n",
    "from ripe.atlas.sagan import Result\n",
    "import numpy as np\n",
    "import pyasn\n",
    "import networkx as nx\n",
    "import matplotlib.pyplot as plt\n",
    "import json\n",
    "\n",
    "limit = 10\n",
    "#103155911\n",
    "id = 100274119\n",
    "ids = \t[100274119, 103112978, 103112523,103155911, 103156016, 103157546, 1283, 1]\n",
    "ids_str = ','.join(map(str, ids))\n",
    "print(ids_str)\n",
    "url = f\"https://atlas.ripe.net/api/v2/measurements/?type=traceroute&status=4&id={ids_str}\"\n",
    "response = requests.get(url)\n",
    "print(response)\n",
    "try:\n",
    "    print(response.raise_for_status())\n",
    "    data = response.json()\n",
    "    res = [m['id'] for m in data['results']]\n",
    "    fes = np.array(res)\n",
    "    print(fes.size)\n",
    "    print(fes.shape)\n",
    "    print(fes)\n",
    "except:\n",
    "    print(\"error, lets move on\")"
   ]
  }
 ],
 "metadata": {
  "kernelspec": {
   "display_name": "Python 3",
   "language": "python",
   "name": "python3"
  },
  "language_info": {
   "codemirror_mode": {
    "name": "ipython",
    "version": 3
   },
   "file_extension": ".py",
   "mimetype": "text/x-python",
   "name": "python",
   "nbconvert_exporter": "python",
   "pygments_lexer": "ipython3",
   "version": "3.12.7"
  }
 },
 "nbformat": 4,
 "nbformat_minor": 5
}
