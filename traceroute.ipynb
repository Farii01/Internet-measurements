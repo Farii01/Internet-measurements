{
 "cells": [
  {
   "cell_type": "code",
   "execution_count": 2,
   "id": "337a31b8",
   "metadata": {},
   "outputs": [],
   "source": [
    "import pandas as pd"
   ]
  },
  {
   "cell_type": "code",
   "execution_count": 14,
   "id": "974f4a7b",
   "metadata": {},
   "outputs": [
    {
     "name": "stdout",
     "output_type": "stream",
     "text": [
      "Index(['fw', 'mver', 'lts', 'endtime', 'dst_name', 'dst_addr', 'src_addr',\n",
      "       'proto', 'af', 'size', 'paris_id', 'result', 'destination_ip_responded',\n",
      "       'msm_id', 'prb_id', 'timestamp', 'msm_name', 'from', 'type', 'group_id',\n",
      "       'stored_timestamp'],\n",
      "      dtype='object')\n",
      "result maybe?: <class 'pandas.core.series.Series'>\n"
     ]
    }
   ],
   "source": [
    "test = pd.read_json(\"./data/RIPE-Atlas-measurement-99359991.json\", lines=True)\n",
    "\n",
    "print(test.columns)\n",
    "first_res = test.head(1)['result']\n",
    "print(\"result maybe?:\",type(first_res))\n",
    "\n"
   ]
  },
  {
   "cell_type": "code",
   "execution_count": 19,
   "id": "a7add551",
   "metadata": {},
   "outputs": [
    {
     "name": "stdout",
     "output_type": "stream",
     "text": [
      "Index(['fw', 'mver', 'lts', 'endtime', 'dst_name', 'dst_addr', 'src_addr',\n",
      "       'proto', 'af', 'size', 'paris_id', 'result', 'destination_ip_responded',\n",
      "       'msm_id', 'prb_id', 'timestamp', 'msm_name', 'from', 'type', 'group_id',\n",
      "       'stored_timestamp'],\n",
      "      dtype='object')\n",
      "0    [{'hop': 1, 'result': [{'from': '172.18.0.1', ...\n",
      "Name: result, dtype: object\n"
     ]
    }
   ],
   "source": [
    "test12 = pd.read_json(\"./data/test12.json\", lines=True)\n",
    "\n",
    "print(test.columns)\n",
    "\n",
    "print(test12['result'])"
   ]
  }
 ],
 "metadata": {
  "kernelspec": {
   "display_name": "Python 3",
   "language": "python",
   "name": "python3"
  },
  "language_info": {
   "codemirror_mode": {
    "name": "ipython",
    "version": 3
   },
   "file_extension": ".py",
   "mimetype": "text/x-python",
   "name": "python",
   "nbconvert_exporter": "python",
   "pygments_lexer": "ipython3",
   "version": "3.12.7"
  }
 },
 "nbformat": 4,
 "nbformat_minor": 5
}
